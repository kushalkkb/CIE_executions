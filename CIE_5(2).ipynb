{
  "nbformat": 4,
  "nbformat_minor": 0,
  "metadata": {
    "colab": {
      "provenance": []
    },
    "kernelspec": {
      "name": "python3",
      "display_name": "Python 3"
    },
    "language_info": {
      "name": "python"
    }
  },
  "cells": [
    {
      "cell_type": "code",
      "execution_count": 1,
      "metadata": {
        "id": "rUHHyHUuP7c9"
      },
      "outputs": [],
      "source": [
        "import spacy"
      ]
    },
    {
      "cell_type": "code",
      "source": [
        "nlp = spacy.load('en_core_web_sm')"
      ],
      "metadata": {
        "id": "ATdOiKe2P9Fy"
      },
      "execution_count": 2,
      "outputs": []
    },
    {
      "cell_type": "code",
      "source": [
        "text = \"the greatest glory in living lies not in never falling but in raising every lies\""
      ],
      "metadata": {
        "id": "M5P6HkxJQHo6"
      },
      "execution_count": 3,
      "outputs": []
    },
    {
      "cell_type": "code",
      "source": [
        "doc = nlp(text)\n"
      ],
      "metadata": {
        "id": "h_suJIrrQwMJ"
      },
      "execution_count": 4,
      "outputs": []
    },
    {
      "cell_type": "code",
      "source": [
        "bi_grams = [(token.text, doc[i + 1].text) for i, token in enumerate(doc) if i < len(doc) - 1]\n",
        "tri_grams = [(token.text, doc[i + 1].text, doc[i + 2].text) for i, token in enumerate(doc) if i < len(doc) - 2]"
      ],
      "metadata": {
        "id": "mpM_A5F_Q0SE"
      },
      "execution_count": 5,
      "outputs": []
    },
    {
      "cell_type": "code",
      "source": [
        "print(\"Bi-grams:\")\n",
        "print(bi_grams)\n"
      ],
      "metadata": {
        "colab": {
          "base_uri": "https://localhost:8080/"
        },
        "id": "mCZ7OPWDQ3UY",
        "outputId": "9205b0a2-61cd-4837-f989-e56c018d84e9"
      },
      "execution_count": 6,
      "outputs": [
        {
          "output_type": "stream",
          "name": "stdout",
          "text": [
            "Bi-grams:\n",
            "[('the', 'greatest'), ('greatest', 'glory'), ('glory', 'in'), ('in', 'living'), ('living', 'lies'), ('lies', 'not'), ('not', 'in'), ('in', 'never'), ('never', 'falling'), ('falling', 'but'), ('but', 'in'), ('in', 'raising'), ('raising', 'every'), ('every', 'lies')]\n"
          ]
        }
      ]
    },
    {
      "cell_type": "code",
      "source": [
        "print(\"\\nTri-grams:\")\n",
        "print(tri_grams)"
      ],
      "metadata": {
        "colab": {
          "base_uri": "https://localhost:8080/"
        },
        "id": "pRw_XKZjQ_j_",
        "outputId": "3d9a94fe-10d0-4a01-be28-edf28286e75e"
      },
      "execution_count": 7,
      "outputs": [
        {
          "output_type": "stream",
          "name": "stdout",
          "text": [
            "\n",
            "Tri-grams:\n",
            "[('the', 'greatest', 'glory'), ('greatest', 'glory', 'in'), ('glory', 'in', 'living'), ('in', 'living', 'lies'), ('living', 'lies', 'not'), ('lies', 'not', 'in'), ('not', 'in', 'never'), ('in', 'never', 'falling'), ('never', 'falling', 'but'), ('falling', 'but', 'in'), ('but', 'in', 'raising'), ('in', 'raising', 'every'), ('raising', 'every', 'lies')]\n"
          ]
        }
      ]
    },
    {
      "cell_type": "code",
      "source": [],
      "metadata": {
        "id": "UZfUd6hLRCNs"
      },
      "execution_count": null,
      "outputs": []
    }
  ]
}