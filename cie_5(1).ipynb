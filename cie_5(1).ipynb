{
  "nbformat": 4,
  "nbformat_minor": 0,
  "metadata": {
    "colab": {
      "provenance": []
    },
    "kernelspec": {
      "name": "python3",
      "display_name": "Python 3"
    },
    "language_info": {
      "name": "python"
    }
  },
  "cells": [
    {
      "cell_type": "code",
      "source": [
        "import tensorflow as tf\n",
        "from tensorflow.keras import layers, models\n",
        "from tensorflow.keras.datasets import mnist\n",
        "from tensorflow.keras.utils import to_categorical\n",
        "(train_images, train_labels), (test_images, test_labels) = mnist.load_data()\n",
        "train_images = train_images.reshape((60000, 28, 28, 1)).astype('float32') / 255\n",
        "test_images = test_images.reshape((10000, 28, 28, 1)).astype('float32') / 255\n",
        "\n",
        "train_labels = to_categorical(train_labels)\n",
        "test_labels = to_categorical(test_labels)\n",
        "\n",
        "\n",
        "model = models.Sequential()\n",
        "model.add(layers.Conv2D(32, (3, 3), activation='relu', input_shape=(28, 28, 1)))\n",
        "model.add(layers.MaxPooling2D((2, 2)))\n",
        "model.add(layers.Conv2D(64, (3, 3), activation='relu'))\n",
        "model.add(layers.MaxPooling2D((2, 2)))\n",
        "model.add(layers.Conv2D(64, (3, 3), activation='relu'))\n",
        "model.add(layers.Flatten())\n",
        "model.add(layers.Dense(64, activation='relu'))\n",
        "model.add(layers.Dense(10, activation='softmax'))\n",
        "\n",
        "\n",
        "model.compile(optimizer='adam',\n",
        "              loss='categorical_crossentropy',\n",
        "              metrics=['accuracy'])\n",
        "\n",
        "model.fit(train_images, train_labels, epochs=5, batch_size=64, validation_split=0.2)\n",
        "\n",
        "\n",
        "test_loss, test_acc = model.evaluate(test_images, test_labels)\n",
        "print(f'Test accuracy: {test_acc}')"
      ],
      "metadata": {
        "colab": {
          "base_uri": "https://localhost:8080/"
        },
        "id": "W1oi37y_zL1X",
        "outputId": "d5ac3d07-4985-4868-8384-7eb1d9d63b4e"
      },
      "execution_count": 6,
      "outputs": [
        {
          "output_type": "stream",
          "name": "stdout",
          "text": [
            "Epoch 1/5\n",
            "750/750 [==============================] - 51s 66ms/step - loss: 0.2179 - accuracy: 0.9332 - val_loss: 0.0726 - val_accuracy: 0.9805\n",
            "Epoch 2/5\n",
            "750/750 [==============================] - 47s 63ms/step - loss: 0.0571 - accuracy: 0.9822 - val_loss: 0.0497 - val_accuracy: 0.9855\n",
            "Epoch 3/5\n",
            "750/750 [==============================] - 48s 64ms/step - loss: 0.0393 - accuracy: 0.9875 - val_loss: 0.0426 - val_accuracy: 0.9884\n",
            "Epoch 4/5\n",
            "750/750 [==============================] - 47s 62ms/step - loss: 0.0306 - accuracy: 0.9902 - val_loss: 0.0422 - val_accuracy: 0.9878\n",
            "Epoch 5/5\n",
            "750/750 [==============================] - 48s 64ms/step - loss: 0.0249 - accuracy: 0.9924 - val_loss: 0.0436 - val_accuracy: 0.9873\n",
            "313/313 [==============================] - 4s 13ms/step - loss: 0.0337 - accuracy: 0.9902\n",
            "Test accuracy: 0.9901999831199646\n"
          ]
        }
      ]
    },
    {
      "cell_type": "code",
      "source": [],
      "metadata": {
        "id": "Io23yL270Xal"
      },
      "execution_count": null,
      "outputs": []
    }
  ]
}